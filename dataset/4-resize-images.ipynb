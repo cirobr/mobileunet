{
 "cells": [
  {
   "cell_type": "markdown",
   "metadata": {},
   "source": [
    "pascalvoc: resize original images"
   ]
  },
  {
   "cell_type": "markdown",
   "metadata": {},
   "source": [
    "Strategy:\n",
    "1. Read: Images RGB / Masks RGB (original dataset)\n",
    "2. Pad (512,512) for training\n",
    "3. Save: Images RGB / Masks RGB"
   ]
  },
  {
   "cell_type": "code",
   "execution_count": null,
   "metadata": {},
   "outputs": [],
   "source": [
    "padsize = (512,512)"
   ]
  },
  {
   "cell_type": "markdown",
   "metadata": {},
   "source": [
    "environment"
   ]
  },
  {
   "cell_type": "code",
   "execution_count": null,
   "metadata": {},
   "outputs": [],
   "source": [
    "using Pkg\n",
    "envpath = expanduser(\"~/envs/dev/\")\n",
    "Pkg.activate(envpath)"
   ]
  },
  {
   "cell_type": "code",
   "execution_count": null,
   "metadata": {},
   "outputs": [],
   "source": [
    "# libs\n",
    "using Images\n",
    "using DataFrames\n",
    "using CSV\n",
    "using FLoops"
   ]
  },
  {
   "cell_type": "code",
   "execution_count": null,
   "metadata": {},
   "outputs": [],
   "source": [
    "# private libs\n",
    "using PreprocessingImages; p=PreprocessingImages"
   ]
  },
  {
   "cell_type": "code",
   "execution_count": null,
   "metadata": {},
   "outputs": [],
   "source": [
    "# input folders\n",
    "datasetPath  = \"~/datasets/pascalvoc/VOCdevkit/VOC2012/\"\n",
    "imagesPath   = datasetPath * \"JPEGImages/\"\n",
    "masksPath    = datasetPath * \"SegmentationClass/\"\n",
    "cowslist     = datasetPath * \"ImageSets/Main/cow_trainval.txt\"\n",
    "\n",
    "# output folders\n",
    "workpath = pwd() * \"/\"\n",
    "workpath = replace(workpath, homedir() => \"~\")\n",
    "resizedImagesPath = workpath * \"resized/images/\"\n",
    "resizedMasksPath  = workpath * \"resized/masks/\"\n",
    "mkpath(expanduser(resizedImagesPath))\n",
    "mkpath(expanduser(resizedMasksPath))"
   ]
  },
  {
   "cell_type": "markdown",
   "metadata": {},
   "source": [
    "input dataset"
   ]
  },
  {
   "cell_type": "code",
   "execution_count": null,
   "metadata": {},
   "outputs": [],
   "source": [
    "fpfn = expanduser(workpath) * \"dftrain-coi.csv\"\n",
    "dftrain = CSV.read(fpfn, DataFrame)\n",
    "fpfn = expanduser(workpath) * \"dfvalid-coi.csv\"\n",
    "dfvalid = CSV.read(fpfn, DataFrame)\n",
    "fpfn = expanduser(workpath) * \"dftest-coi.csv\"\n",
    "dftest = CSV.read(fpfn, DataFrame);"
   ]
  },
  {
   "cell_type": "markdown",
   "metadata": {},
   "source": [
    "resize dataset"
   ]
  },
  {
   "cell_type": "code",
   "execution_count": null,
   "metadata": {},
   "outputs": [],
   "source": [
    "# resize images and masks\n",
    "dfs   = [dftrain, dfvalid, dftest]\n",
    "\n",
    "for df in dfs\n",
    "@floop for row in eachrow(df)\n",
    "    # images\n",
    "    local fpfn = expanduser(row.X)\n",
    "    img = Images.load(fpfn)                          # read\n",
    "    img = p.center_padview(img, padsize) .|> RGB     # pad\n",
    "    local fpfn = expanduser(resizedImagesPath) * basename(fpfn)\n",
    "    Images.save(fpfn, img)                           # save\n",
    "\n",
    "    # masks\n",
    "    if row.segmented == 1\n",
    "        local fpfn = expanduser(row.y)\n",
    "        mask = Images.load(fpfn)                          # read\n",
    "        mask = p.center_padview(mask, padsize) .|> RGB    # pad\n",
    "        local fpfn = expanduser(resizedMasksPath) * basename(fpfn)\n",
    "        Images.save(fpfn, mask)                           # save\n",
    "    end\n",
    "end\n",
    "end"
   ]
  },
  {
   "cell_type": "code",
   "execution_count": null,
   "metadata": {},
   "outputs": [],
   "source": [
    "# create data frames\n",
    "dftrain_resized = dftrain\n",
    "dftrain_resized.X = resizedImagesPath .* basename.(dftrain.X)\n",
    "dftrain_resized.y = [row.segmented == 1 ? resizedMasksPath * basename(row.y) : row.y for row in eachrow(dftrain)]\n",
    "\n",
    "dfvalid_resized = dfvalid\n",
    "dfvalid_resized.X = resizedImagesPath .* basename.(dfvalid.X)\n",
    "dfvalid_resized.y = [row.segmented == 1 ? resizedMasksPath * basename(row.y) : row.y for row in eachrow(dfvalid)]\n",
    "\n",
    "dftest_resized = dftest\n",
    "dftest_resized.X = resizedImagesPath .* basename.(dftest.X)\n",
    "dftest_resized.y = [row.segmented == 1 ? resizedMasksPath * basename(row.y) : row.y for row in eachrow(dftest)]\n",
    "\n",
    "# save data frames\n",
    "fpfn = expanduser(workpath) * \"dftrain-coi-resized.csv\"\n",
    "CSV.write(fpfn, dftrain_resized)\n",
    "fpfn = expanduser(workpath) * \"dfvalid-coi-resized.csv\"\n",
    "CSV.write(fpfn, dfvalid_resized)\n",
    "fpfn = expanduser(workpath) * \"dftest-coi-resized.csv\"\n",
    "CSV.write(fpfn, dftest_resized)"
   ]
  },
  {
   "cell_type": "code",
   "execution_count": null,
   "metadata": {},
   "outputs": [],
   "source": [
    "# checkpoint\n",
    "dftrain = CSV.read(expanduser(workpath) * \"dftrain-coi-resized.csv\", DataFrame)\n",
    "df = dftrain[dftrain.segmented .== 1, :]\n",
    "\n",
    "k = rand(1:size(df, 1))\n",
    "img = Images.load(expanduser(df.X[k]))\n",
    "msk = Images.load(expanduser(df.y[k]))\n",
    "mosaicview([img, msk]; nrow=1)"
   ]
  }
 ],
 "metadata": {
  "kernelspec": {
   "display_name": "Julia 1.10.4",
   "language": "julia",
   "name": "julia-1.10"
  },
  "language_info": {
   "file_extension": ".jl",
   "mimetype": "application/julia",
   "name": "julia",
   "version": "1.10.4"
  }
 },
 "nbformat": 4,
 "nbformat_minor": 2
}
